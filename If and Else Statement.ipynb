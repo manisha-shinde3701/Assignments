{
 "cells": [
  {
   "cell_type": "markdown",
   "id": "83b6474b",
   "metadata": {},
   "source": [
    "1) Write a program to find the lowest number out of two numbers excepted from user."
   ]
  },
  {
   "cell_type": "code",
   "execution_count": 2,
   "id": "e2cf055e",
   "metadata": {},
   "outputs": [
    {
     "name": "stdout",
     "output_type": "stream",
     "text": [
      "Enter the first number: 3\n",
      "Enter the second number: 78\n",
      "The lowest number is: 3.0\n"
     ]
    }
   ],
   "source": [
    "# Get input from the user\n",
    "num1 = float(input(\"Enter the first number: \"))\n",
    "num2 = float(input(\"Enter the second number: \"))\n",
    "\n",
    "# Compare the two numbers and find the lowest\n",
    "if num1 < num2:\n",
    "    lowest = num1\n",
    "else:\n",
    "    lowest = num2\n",
    "\n",
    "# Print the result\n",
    "print(\"The lowest number is:\", lowest)\n"
   ]
  },
  {
   "cell_type": "markdown",
   "id": "222c1cbf",
   "metadata": {},
   "source": [
    "2) Write a program to whether a number (accepted from user) is divisible by 2 and 3 both."
   ]
  },
  {
   "cell_type": "code",
   "execution_count": 5,
   "id": "e645e811",
   "metadata": {},
   "outputs": [
    {
     "name": "stdout",
     "output_type": "stream",
     "text": [
      "Enter a number: 24\n",
      "24 is divisible by both 2 and 3.\n"
     ]
    }
   ],
   "source": [
    "# Get input from the user\n",
    "number = int(input(\"Enter a number: \"))\n",
    "\n",
    "# Check if the number is divisible by both 2 and 3\n",
    "if number % 2 == 0 and number % 3 == 0:\n",
    "    print(f\"{number} is divisible by both 2 and 3.\")\n",
    "else:\n",
    "    print(f\"{number} is not divisible by both 2 and 3.\")\n"
   ]
  },
  {
   "cell_type": "markdown",
   "id": "e9b3e1bb",
   "metadata": {},
   "source": [
    "3) Accept the age of 4 people and display the oldest one."
   ]
  },
  {
   "cell_type": "code",
   "execution_count": 6,
   "id": "fdba2f1f",
   "metadata": {},
   "outputs": [
    {
     "name": "stdout",
     "output_type": "stream",
     "text": [
      "Enter age of person 1: 45\n",
      "Enter age of person 2: 32\n",
      "Enter age of person 3: 12\n",
      "Enter age of person 4: 22\n",
      "The oldest person is 45 years old.\n"
     ]
    }
   ],
   "source": [
    "# Get ages from the user\n",
    "age1 = int(input(\"Enter age of person 1: \"))\n",
    "age2 = int(input(\"Enter age of person 2: \"))\n",
    "age3 = int(input(\"Enter age of person 3: \"))\n",
    "age4 = int(input(\"Enter age of person 4: \"))\n",
    "\n",
    "# Compare ages to find the oldest person\n",
    "if age1 >= age2 and age1 >= age3 and age1 >= age4:\n",
    "    oldest = age1\n",
    "elif age2 >= age1 and age2 >= age3 and age2 >= age4:\n",
    "    oldest = age2\n",
    "elif age3 >= age1 and age3 >= age2 and age3 >= age4:\n",
    "    oldest = age3\n",
    "else:\n",
    "    oldest = age4\n",
    "\n",
    "# Print the result\n",
    "print(f\"The oldest person is {oldest} years old.\")\n"
   ]
  },
  {
   "cell_type": "markdown",
   "id": "f9199eec",
   "metadata": {},
   "source": [
    "4) Write a program to check whether a number  is prime or not."
   ]
  },
  {
   "cell_type": "code",
   "execution_count": 8,
   "id": "0e9a462d",
   "metadata": {},
   "outputs": [
    {
     "name": "stdout",
     "output_type": "stream",
     "text": [
      "Enter a number: 5\n",
      "5 is a prime number.\n"
     ]
    }
   ],
   "source": [
    "# Get input from the user\n",
    "number = int(input(\"Enter a number: \"))\n",
    "\n",
    "# Check if the number is prime\n",
    "if number > 1:\n",
    "    is_prime = True\n",
    "    for i in range(2, int(number**0.5) + 1):\n",
    "        if (number % i) == 0:\n",
    "            is_prime = False\n",
    "            break\n",
    "\n",
    "    if is_prime:\n",
    "        print(f\"{number} is a prime number.\")\n",
    "    else:\n",
    "        print(f\"{number} is not a prime number.\")\n",
    "else:\n",
    "    print(f\"{number} is not a prime number.\")\n"
   ]
  },
  {
   "cell_type": "markdown",
   "id": "32a96054",
   "metadata": {},
   "source": [
    "5) Write a program to check a character is vowel or not."
   ]
  },
  {
   "cell_type": "code",
   "execution_count": 9,
   "id": "ba4df42d",
   "metadata": {},
   "outputs": [
    {
     "name": "stdout",
     "output_type": "stream",
     "text": [
      "Enter a character: a\n",
      "The character a is a vowel.\n"
     ]
    }
   ],
   "source": [
    "# Get input from the user (assuming a single character is entered)\n",
    "char = input(\"Enter a character: \")\n",
    "\n",
    "# Convert the character to lowercase to handle both upper and lower case\n",
    "char = char.lower()\n",
    "\n",
    "# Check if the character is a vowel\n",
    "if char == 'a' or char == 'e' or char == 'i' or char == 'o' or char == 'u':\n",
    "    print(f\"The character {char} is a vowel.\")\n",
    "else:\n",
    "    print(f\"The character {char} is not a vowel.\")\n"
   ]
  }
 ],
 "metadata": {
  "kernelspec": {
   "display_name": "Python 3 (ipykernel)",
   "language": "python",
   "name": "python3"
  },
  "language_info": {
   "codemirror_mode": {
    "name": "ipython",
    "version": 3
   },
   "file_extension": ".py",
   "mimetype": "text/x-python",
   "name": "python",
   "nbconvert_exporter": "python",
   "pygments_lexer": "ipython3",
   "version": "3.9.13"
  }
 },
 "nbformat": 4,
 "nbformat_minor": 5
}
